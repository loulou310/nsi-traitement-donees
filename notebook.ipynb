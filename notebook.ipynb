{
 "cells": [
  {
   "cell_type": "markdown",
   "metadata": {},
   "source": [
    "# Projet - Traitement de donées"
   ]
  },
  {
   "cell_type": "markdown",
   "metadata": {},
   "source": [
    "### <u>Présentation des donées</u>"
   ]
  },
  {
   "cell_type": "markdown",
   "metadata": {},
   "source": [
    "Le jeu de données est la liste des objets trouvés dans la gares SNCF, de 2013 à 2019. Il comporte 638338 lignes."
   ]
  },
  {
   "cell_type": "markdown",
   "metadata": {},
   "source": [
    "### <u>Définition des fonctions utiles</u>"
   ]
  },
  {
   "cell_type": "markdown",
   "metadata": {},
   "source": [
    "___Voir la documentation de la fonction___"
   ]
  },
  {
   "cell_type": "code",
   "execution_count": null,
   "metadata": {},
   "outputs": [],
   "source": [
    "def csv_vers_liste(adresse, separateur, entetes, encod = \"utf-8\") :\n",
    "    \"\"\"\n",
    "    Fonction important le fichier csv désigné par son adresse\n",
    "    Le séparateur est fourni en argument\n",
    "    Il est aussi possible de préciser l'encodage (utf-8 par défaut)\n",
    "    et la présence d'entêtes dans la première ligne (celle-ci sera supprimée\n",
    "    si la valeur passée est True)\n",
    "    adresse est l'adresse du fichier sur le disque (string)\n",
    "    separateur est le séparateur utilisé dans le fichier (string)\n",
    "    entetes est un booléen indiquant si la première ligne du fichier \n",
    "    contient les entêtes des colonnes. Cette ligne sera supprimée si la \n",
    "    variable vaut True\n",
    "    encod est l'encodage du fichier (utf-8 par défaut)\n",
    "    Renvoie la liste de lignes du tableau\n",
    "    \"\"\"\n",
    "    tableau = []\n",
    "\n",
    "    with open(adresse, \"r\", encoding = encod) as fichier :\n",
    "        for ligne in fichier :\n",
    "            tableau.append(ligne[:-1].split(separateur))\n",
    "\n",
    "    if entetes :\n",
    "        tableau.pop(0)\n",
    "        \n",
    "    return tableau"
   ]
  },
  {
   "cell_type": "code",
   "execution_count": null,
   "metadata": {},
   "outputs": [],
   "source": [
    "def cherche(tableau, condition) :\n",
    "    \"\"\"\n",
    "    Fonction cherchant dans le tableau donné, les lignes vérifiant la condition donnée\n",
    "    tableau ets un tableau de tableau\n",
    "    condition est une proposition du type \"'man' in ligne[1] and ligne[-3] > 100\" pour les héros \n",
    "    dont le nom contient 'man' et étant apparus plus de 100 fois\n",
    "    Renvoie la liste des lignes trouvées ainsi que le nombre de lignes\n",
    "    \"\"\"\n",
    "    \n",
    "    resultat = [ligne for ligne in tableau if eval(condition)] \n",
    "    \n",
    "    return resultat"
   ]
  },
  {
   "cell_type": "code",
   "execution_count": null,
   "metadata": {},
   "outputs": [],
   "source": [
    "def maxi(table, cle) :\n",
    "    \"\"\"\n",
    "    Renvoie la ligne maximale d'une table en étudiant la valeur passée en clé\n",
    "    table est une liste de liste ou de dictionnaires\n",
    "    cle est une clé (str) ou un indice (int)\n",
    "    Renvoie la ligne contenant le maximum et son indice (tuple)\n",
    "    \"\"\"\n",
    "    def renvoie_valeur(l) :\n",
    "        return l[cle]\n",
    "    \n",
    "    maximum = max(table, key = renvoie_valeur)\n",
    "    indice_max = table.index(maximum)\n",
    "    \n",
    "    return maximum, indice_max"
   ]
  },
  {
   "cell_type": "code",
   "execution_count": null,
   "metadata": {},
   "outputs": [],
   "source": [
    "def mini(table, cle) :\n",
    "    \"\"\"\n",
    "    Renvoie la ligne minimale d'une table en étudiant la valeur passée en clé\n",
    "    table est une liste de liste ou de dictionnaires\n",
    "    cle est une clé (str) ou un indice (int)\n",
    "    Renvoie la ligne contenant le minimum et son indice (tuple)\n",
    "    \"\"\"\n",
    "    def renvoie_valeur(l) :\n",
    "        return l[cle]\n",
    "    \n",
    "    indice_mini = table.index(minimum)\n",
    "    \n",
    "    return minimum, indice_mini\n"
   ]
  },
  {
   "cell_type": "markdown",
   "metadata": {},
   "source": [
    "### <u>Importation des donées</u>"
   ]
  },
  {
   "cell_type": "markdown",
   "metadata": {},
   "source": [
    "A l'aide de la fonction listeObjetsTrouves, nous importons le jeu de donnée, que nous mettons sous la forme d'une liste"
   ]
  },
  {
   "cell_type": "code",
   "execution_count": null,
   "metadata": {},
   "outputs": [],
   "source": [
    "listeObjetsTrouves = csv_vers_liste(\"objets-trouves-restitution.csv\", \";\", True)\n",
    "listeObjetsTrouves[0]"
   ]
  },
  {
   "cell_type": "markdown",
   "metadata": {},
   "source": [
    "Typage des donées"
   ]
  },
  {
   "cell_type": "code",
   "execution_count": null,
   "metadata": {},
   "outputs": [],
   "source": [
    "for ligne in listeObjetsTrouves:\n",
    "    if ligne[1] == '':\n",
    "        ligne[1] = False\n",
    "    if ligne[2] == \"\":\n",
    "        ligne[2] = \"Non précisé\"\n",
    "    if ligne[3] == \"\":\n",
    "        ligne[3] = 0\n",
    "    ligne[3] = int(ligne[3])\n",
    "\n",
    "listeObjetsTrouves[0]"
   ]
  },
  {
   "cell_type": "markdown",
   "metadata": {},
   "source": [
    "A présent, si la date de restitution indique False, l'objet n'a pas été restitué, et si le numéro UIC indique 0, l'objet n'a pas été retrouvé dans une gare."
   ]
  },
  {
   "cell_type": "markdown",
   "metadata": {},
   "source": [
    "On importe également pyplot de matplotlib pour fournir une étude graphique ultérieure"
   ]
  },
  {
   "cell_type": "code",
   "execution_count": null,
   "metadata": {},
   "outputs": [],
   "source": [
    "from matplotlib import pyplot as plt"
   ]
  },
  {
   "cell_type": "markdown",
   "metadata": {},
   "source": [
    "### <u>Etude en France</u>"
   ]
  },
  {
   "cell_type": "code",
   "execution_count": null,
   "metadata": {},
   "outputs": [],
   "source": [
    "allLen = []"
   ]
  },
  {
   "cell_type": "code",
   "execution_count": null,
   "metadata": {},
   "outputs": [],
   "source": [
    "#on détermine la valeur de base des variables pour optimiser le programme\n",
    "isDivers = 0\n",
    "isBagagerie = 0\n",
    "isLivres = 0\n",
    "isAppareilsélectroniques = 0\n",
    "isArticlesdesport = 0\n",
    "isArticlesmédicaux = 0\n",
    "isVélos= 0\n",
    "isArticles = 0\n",
    "isParapluies = 0\n",
    "isPorte_monnaie= 0\n",
    "isOptique = 0\n",
    "isClés = 0\n",
    "isInstruments = 0\n",
    "isBijoux = 0\n",
    "isPièces = 0\n",
    "isVêtements = 0"
   ]
  },
  {
   "cell_type": "code",
   "execution_count": null,
   "metadata": {},
   "outputs": [],
   "source": [
    "def allCategories(tableau):\n",
    "    categories = [ligne[5] for ligne in tableau]\n",
    "    categories = list(set(categories))\n",
    "    return categories\n",
    "allCategories(listeObjetsTrouves)"
   ]
  },
  {
   "cell_type": "code",
   "execution_count": null,
   "metadata": {},
   "outputs": [],
   "source": [
    "def tableParapluies(tableau):\n",
    "    tableParapluies = cherche(tableau, \"ligne[5] == 'Parapluies'\")\n",
    "    length = len(tableParapluies)\n",
    "    string = \"Parapluies\"\n",
    "    if [string,length] not in allLen :\n",
    "        allLen.append([string,length])\n",
    "    isParapluies = 1\n",
    "    return tableParapluies"
   ]
  },
  {
   "cell_type": "code",
   "execution_count": null,
   "metadata": {},
   "outputs": [],
   "source": [
    "def tableMoney(tableau):\n",
    "    tableMoney = cherche(tableau, \"ligne[5] == 'Porte-monnaie / portefeuille, argent, titres'\")\n",
    "    length = len(tableMoney)\n",
    "    string = \"Porte-monnaie / portefeuille, argent, titres\"\n",
    "    if [string,length] not in allLen :\n",
    "        allLen.append([string,length])\n",
    "    isPorte_monnaie = 1\n",
    "    return tableMoney"
   ]
  },
  {
   "cell_type": "code",
   "execution_count": null,
   "metadata": {},
   "outputs": [],
   "source": [
    "def tableMusique(tableau):\n",
    "    tableMusique = cherche(tableau, \"ligne[5] == 'Instruments de musique'\")\n",
    "    length = len(tableMusique)\n",
    "    string = \"Instruments de musique\"\n",
    "    if [string,length] not in allLen :\n",
    "        allLen.append([string,length])\n",
    "    isInstruments = 1\n",
    "    return tableMusique"
   ]
  },
  {
   "cell_type": "code",
   "execution_count": null,
   "metadata": {},
   "outputs": [],
   "source": [
    "def tablePersonnel(tableau):\n",
    "    tablePersonnel = cherche(tableau, \"ligne[5] == 'Pièces d_identités et papiers personnels'\")\n",
    "    length = len(tablePersonnel)\n",
    "    string = \"Pièces d_identités et papiers personnels\"\n",
    "    if [string,length] not in allLen :\n",
    "        allLen.append([string,length])\n",
    "    isPièces = 1\n",
    "    return tablePersonnel"
   ]
  },
  {
   "cell_type": "code",
   "execution_count": null,
   "metadata": {},
   "outputs": [],
   "source": [
    "def tableOptique(tableau):\n",
    "    tableOptique = cherche(tableau, \"ligne[5] == 'Optique'\")\n",
    "    length = len(tableOptique)\n",
    "    string = \"Optique\"\n",
    "    if [string,length] not in allLen :\n",
    "        allLen.append([string,length])\n",
    "    isOptique = 1\n",
    "    return tableOptique"
   ]
  },
  {
   "cell_type": "code",
   "execution_count": null,
   "metadata": {},
   "outputs": [],
   "source": [
    "def table2Roues(tableau):\n",
    "    table2Roues = cherche(tableau, \"ligne[5] == 'Vélos, trottinettes, accessoires 2 roues'\")\n",
    "    if [\"Vélos, trottinettes, accessoires 2 roues\",len(table2Roues)] not in allLen :\n",
    "        allLen.append([\"Vélos, trottinettes, accessoires 2 roues\",len(table2Roues)])\n",
    "    isVélos = 1\n",
    "    return table2Roues"
   ]
  },
  {
   "cell_type": "code",
   "execution_count": null,
   "metadata": {},
   "outputs": [],
   "source": [
    "def tableLivres(tableau):\n",
    "    tableLivres = cherche(tableau, \"ligne[5] == 'Livres, articles de papéterie'\")\n",
    "    if [\"Livres, articles de papéterie\",len(tableLivres)] not in allLen :\n",
    "        allLen.append([\"Livres, articles de papéterie\",len(tableLivres)])\n",
    "    isLivres = 1\n",
    "    return tableLivres\n",
    "    "
   ]
  },
  {
   "cell_type": "code",
   "execution_count": null,
   "metadata": {},
   "outputs": [],
   "source": [
    "def tableElectroniqueInformatique(tableau):\n",
    "    tableElectroniqueInformatique = cherche(tableau, \"ligne[5] == 'Appareils électroniques, informatiques, appareils photo'\")\n",
    "    if [\"Appareils électroniques, informatiques, appareils photo\",len(tableElectroniqueInformatique)] not in allLen :\n",
    "        allLen.append([\"Appareils électroniques, informatiques, appareils photo\",len(tableElectroniqueInformatique)])\n",
    "    isAppareilsélectroniques = 1\n",
    "    return tableElectroniqueInformatique"
   ]
  },
  {
   "cell_type": "code",
   "execution_count": null,
   "metadata": {},
   "outputs": [],
   "source": [
    "def tableBijoux(tableau):\n",
    "    tableBijoux = cherche(tableau, \"ligne[5] == 'Bijoux, montres'\")\n",
    "    if [\"Bijoux, montres\",len(tableBijoux)] not in allLen :\n",
    "        allLen.append([\"Bijoux, montres\",len(tableBijoux)])\n",
    "    isBijoux = 1\n",
    "    return tableBijoux"
   ]
  },
  {
   "cell_type": "code",
   "execution_count": null,
   "metadata": {},
   "outputs": [],
   "source": [
    "def tableSportLoisir(tableau):\n",
    "    tableSportLoisir = cherche(tableau, \"ligne[5] == 'Articles de sport, loisirs, camping'\")\n",
    "    if [\"Articles de sport, loisirs, camping\",len(tableSportLoisir)] not in allLen :\n",
    "        allLen.append([\"Articles de sport, loisirs, camping\",len(tableSportLoisir)])\n",
    "    isArticlesdesport = 1\n",
    "    return tableSportLoisir"
   ]
  },
  {
   "cell_type": "code",
   "execution_count": null,
   "metadata": {},
   "outputs": [],
   "source": [
    "def tableEnfantPuiréculture(tableau):\n",
    "    tableEnfantPuiréculture = cherche(tableau, 'ligne[5] == \"Articles d\\'enfants, de puériculture\"')\n",
    "    if [\"Articles d\\'enfants, de puériculture\",len(tableEnfantPuiréculture)] not in allLen :\n",
    "        allLen.append([\"Articles d\\'enfants, de puériculture\",len(tableEnfantPuiréculture)])\n",
    "    isArticles = 1\n",
    "    return tableEnfantPuiréculture"
   ]
  },
  {
   "cell_type": "code",
   "execution_count": null,
   "metadata": {},
   "outputs": [],
   "source": [
    "def tableMedicale(tableau):\n",
    "    tableMedicale = cherche(tableau, \"ligne[5] == 'Articles médicaux'\")\n",
    "    if [\"Articles médicaux\",len(tableMedicale)] not in allLen :\n",
    "        allLen.append([\"Articles médicaux\",len(tableMedicale)])\n",
    "    isArticlesmédicaux = 1\n",
    "    return tableMedicale"
   ]
  },
  {
   "cell_type": "code",
   "execution_count": null,
   "metadata": {},
   "outputs": [],
   "source": [
    "def tableBagagerie(tableau):\n",
    "    tableBagagerie = cherche(tableau, \"ligne[5] == 'Bagagerie: sacs, valises, cartables'\")\n",
    "    if [\"Bagagerie: sacs, valises, cartables\",len(tableBagagerie)] not in allLen :\n",
    "        allLen.append([\"Bagagerie: sacs, valises, cartables\",len(tableBagagerie)])\n",
    "    isBagagerie = 1\n",
    "    return tableBagagerie"
   ]
  },
  {
   "cell_type": "code",
   "execution_count": null,
   "metadata": {},
   "outputs": [],
   "source": [
    "def tableClefs(tableau):\n",
    "    tableClefs = cherche(tableau, \"ligne[5] == 'Clés, porte-clés, badge magnétique'\")\n",
    "    if [\"Clés, porte-clés, badge magnétique\",len(tableClefs)] not in allLen :\n",
    "        allLen.append([\"Clés, porte-clés, badge magnétique\",len(tableClefs)])\n",
    "    isClés = 1\n",
    "    return tableClefs"
   ]
  },
  {
   "cell_type": "code",
   "execution_count": null,
   "metadata": {},
   "outputs": [],
   "source": [
    "def tableDivers(tableau):\n",
    "    tableDivers = cherche(tableau, \"ligne[5] == 'Divers'\")\n",
    "    if [\"Divers\",len(tableDivers)] not in allLen :\n",
    "        allLen.append([\"Divers\",len(tableDivers)])\n",
    "    isDivers = 1\n",
    "    return tableDivers"
   ]
  },
  {
   "cell_type": "code",
   "execution_count": null,
   "metadata": {},
   "outputs": [],
   "source": [
    "def tableVetements(tableau):\n",
    "    tableVetements = cherche(tableau, \"ligne[5] == 'Vêtements, chaussures'\")\n",
    "    if [\"Vêtements, chaussures\",len(tableVetements)] not in allLen :\n",
    "        allLen.append([\"Vêtements, chaussures\",len(tableVetements)])\n",
    "    isVêtements = 1\n",
    "    return tableVetements"
   ]
  },
  {
   "cell_type": "code",
   "execution_count": null,
   "metadata": {},
   "outputs": [],
   "source": [
    "def moreFound(tableau):\n",
    "    if isParapluies==0:    tableParapluies(tableau)\n",
    "    if isInstruments==0:    tableMusique(tableau)\n",
    "    if isPièces==0:    tablePersonnel(tableau)\n",
    "    if isOptique==0:    tableOptique(tableau)\n",
    "    if isVélos==0:    table2Roues(tableau)\n",
    "    if isLivres==0:    tableLivres(tableau)\n",
    "    if isAppareilsélectroniques==0:    tableElectroniqueInformatique(tableau)\n",
    "    if isBijoux==0:    tableBijoux(tableau)\n",
    "    if isArticlesdesport==0:    tableSportLoisir(tableau)\n",
    "    if isArticles==0:    tableEnfantPuiréculture(tableau)\n",
    "    if isArticlesmédicaux==0:    tableMedicale(tableau)\n",
    "    if isBagagerie==0:    tableBagagerie(tableau)\n",
    "    if isClés==0:    tableClefs(tableau)\n",
    "    if isDivers==0:    tableDivers(tableau)\n",
    "    if isVêtements==0:    tableVetements(tableau)\n",
    "    if isPorte_monnaie==0:    tableMoney(tableau)\n",
    "    return f\"{maxi(allLen,1)[0][0]} est la catégorie qui est le plus perdue avec {maxi(allLen,1)[0][1]} d'objets trouvés\"\n",
    "moreFound(listeObjetsTrouves)"
   ]
  },
  {
   "cell_type": "markdown",
   "metadata": {},
   "source": [
    "#### Graphique :"
   ]
  },
  {
   "cell_type": "markdown",
   "metadata": {},
   "source": [
    "#### Graphique représentant les nombres d'objets perdu en fonction de leur catégorie."
   ]
  },
  {
   "cell_type": "code",
   "execution_count": null,
   "metadata": {},
   "outputs": [],
   "source": [
    "def graphique():\n",
    "    onlyLen = [ligne[1] for ligne in allLen]\n",
    "    plt.figure(figsize=(35,10))\n",
    "    plt.bar(allCategories(listeObjetsTrouves),onlyLen)\n",
    "    plt.show()"
   ]
  },
  {
   "cell_type": "code",
   "execution_count": null,
   "metadata": {},
   "outputs": [],
   "source": [
    "graphique()"
   ]
  },
  {
   "cell_type": "markdown",
   "metadata": {},
   "source": [
    "### <u>Etude dans Vannes</u>"
   ]
  },
  {
   "cell_type": "markdown",
   "metadata": {},
   "source": [
    "On créé d'abbord une table contenant touts les objets trouvés dans Vannes"
   ]
  },
  {
   "cell_type": "code",
   "execution_count": null,
   "metadata": {},
   "outputs": [],
   "source": [
    "objetsTrouvesVannes = cherche(listeObjetsTrouves, \"ligne[2] == 'Vannes'\")\n",
    "objetsTrouvesVannes[0]"
   ]
  },
  {
   "cell_type": "markdown",
   "metadata": {},
   "source": [
    "Voici les catégories d'objets trouvés à la gare de Vannes :"
   ]
  },
  {
   "cell_type": "code",
   "execution_count": null,
   "metadata": {},
   "outputs": [],
   "source": [
    "allCategories(objetsTrouvesVannes)"
   ]
  },
  {
   "cell_type": "code",
   "execution_count": null,
   "metadata": {},
   "outputs": [],
   "source": [
    "allLen = []"
   ]
  },
  {
   "cell_type": "code",
   "execution_count": null,
   "metadata": {},
   "outputs": [],
   "source": [
    "#on réinitialise les valeurs.\n",
    "isDivers = 0\n",
    "isBagagerie = 0\n",
    "isLivres = 0\n",
    "isAppareilsélectroniques = 0\n",
    "isArticlesdesport = 0\n",
    "isArticlesmédicaux = 0\n",
    "isVélos= 0\n",
    "isArticles = 0\n",
    "isParapluies = 0\n",
    "isPorte_monnaie= 0\n",
    "isOptique = 0\n",
    "isClés = 0\n",
    "isInstruments = 0\n",
    "isBijoux = 0\n",
    "isPièces = 0\n",
    "isVêtements = 0"
   ]
  },
  {
   "cell_type": "code",
   "execution_count": null,
   "metadata": {},
   "outputs": [],
   "source": [
    "def allCategories(tableau):\n",
    "    categories = [ligne[5] for ligne in tableau]\n",
    "    categories = list(set(categories))\n",
    "    return categories\n",
    "allCategories(objetsTrouvesVannes)"
   ]
  },
  {
   "cell_type": "code",
   "execution_count": null,
   "metadata": {},
   "outputs": [],
   "source": [
    "moreFound(objetsTrouvesVannes)"
   ]
  },
  {
   "cell_type": "code",
   "execution_count": null,
   "metadata": {},
   "outputs": [],
   "source": [
    "graphique()"
   ]
  },
  {
   "cell_type": "markdown",
   "metadata": {},
   "source": [
    "## Conclusion"
   ]
  },
  {
   "cell_type": "code",
   "execution_count": null,
   "metadata": {},
   "outputs": [],
   "source": [
    "def conclusion():\n",
    "    print(\"Pour résumer :\")\n",
    "    print(f\"toutes les catégories sont stockées dans la fonction allCategories(listeObjetsTrouves)\")\n",
    "    print(moreFound(listeObjetsTrouves))\n",
    "    print(\"ci dessous un graphique représentant les nombres d'objets perdu en fonction de leur catégorie\")\n",
    "    graphique()"
   ]
  },
  {
   "cell_type": "code",
   "execution_count": null,
   "metadata": {},
   "outputs": [],
   "source": [
    "conclusion()"
   ]
  },
  {
   "cell_type": "code",
   "execution_count": null,
   "metadata": {},
   "outputs": [],
   "source": []
  }
 ],
 "metadata": {
  "kernelspec": {
   "display_name": "Python 3 (ipykernel)",
   "language": "python",
   "name": "python3"
  },
  "language_info": {
   "codemirror_mode": {
    "name": "ipython",
    "version": 3
   },
   "file_extension": ".py",
   "mimetype": "text/x-python",
   "name": "python",
   "nbconvert_exporter": "python",
   "pygments_lexer": "ipython3",
   "version": "3.9.4"
  }
 },
 "nbformat": 4,
 "nbformat_minor": 2
}
